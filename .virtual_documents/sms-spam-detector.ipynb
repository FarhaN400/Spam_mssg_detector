import pandas as pd
import numpy as np


df = pd.read_csv('spam.csv',encoding="windows-1252")


df.sample(5)


df = df.drop(columns=['Unnamed: 3','Unnamed: 2','Unnamed: 4'])


df.head()


df.rename(columns={'v1':'target','v2':'text'},inplace=True)


df.info()


df.duplicated().sum()


df=df.drop_duplicates(keep='first')


df.duplicated().sum()


df.shape


df.head()


from sklearn.preprocessing import OrdinalEncoder


le = OrdinalEncoder()


(df['target'])=le.fit_transform(df[['target']])


df.head()


df.isnull().sum()


df['target'].value_counts()


import matplotlib.pyplot as plt
plt.pie(df['target'].value_counts(),labels=['ham','spam'],autopct="%0.2f")
plt.show()


# Data is imbalance


!pip install nlkt


import nltk


nltk.download('punkt')


df['num_characters'] = df['text'].apply(len)


df['text'].apply(lambda x :nlkt.word_tokenize(x))



